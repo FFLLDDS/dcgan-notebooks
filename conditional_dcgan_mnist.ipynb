{
 "cells": [
  {
   "cell_type": "markdown",
   "metadata": {},
   "source": [
    "# Conditional GAN"
   ]
  },
  {
   "cell_type": "markdown",
   "metadata": {},
   "source": [
    "## imports"
   ]
  },
  {
   "cell_type": "code",
   "execution_count": null,
   "metadata": {},
   "outputs": [],
   "source": [
    "import torch\n",
    "import torchvision\n",
    "import torch.nn as nn\n",
    "import matplotlib.pyplot as plt"
   ]
  },
  {
   "cell_type": "markdown",
   "metadata": {},
   "source": [
    "## hyperparams"
   ]
  },
  {
   "cell_type": "code",
   "execution_count": null,
   "metadata": {},
   "outputs": [],
   "source": [
    "PATH = 'data'\n",
    "BATCHSIZE = 64\n",
    "N_INPUTCHANNELS = 1\n",
    "HEIGHT_WIDTH = 28       # height and width of mnist images\n",
    "NDF = 4                 # handle for number of discriminator features\n",
    "NGF = 32                # handle for number of generator features \n",
    "NZ = 100                # generator sample dimension\n",
    "LR = 1e-3               # learning rate\n",
    "EPOCHS = 20\n",
    "N_CLASSES = 10"
   ]
  },
  {
   "cell_type": "markdown",
   "metadata": {},
   "source": [
    "## load MNIST data"
   ]
  },
  {
   "cell_type": "code",
   "execution_count": null,
   "metadata": {},
   "outputs": [],
   "source": [
    "device = torch.device(\"cuda:0\" if torch.cuda.is_available() else \"cpu\")\n",
    "\n",
    "transform = torchvision.transforms.ToTensor()\n",
    "train_data = torchvision.datasets.MNIST(root=PATH, train=True, transform=transform, download=True)\n",
    "\n",
    "train_loader = torch.utils.data.DataLoader(train_data, batch_size=BATCHSIZE, shuffle=True)"
   ]
  },
  {
   "cell_type": "markdown",
   "metadata": {},
   "source": [
    "## Generator and Discriminator classes"
   ]
  },
  {
   "cell_type": "code",
   "execution_count": null,
   "metadata": {},
   "outputs": [],
   "source": [
    "class Generator(nn.Module):\n",
    "    def __init__(self, nz, ngf, nic, nclasses):\n",
    "        super().__init__()\n",
    "        \n",
    "        self.gen = nn.Sequential(\n",
    "                                    # input_size: (BATCHSIZE, nz=100, 1, 1)\n",
    "                                    nn.ConvTranspose2d(in_channels=nz+nclasses, out_channels=ngf*8, kernel_size=4,stride=1, padding=0), \n",
    "                                    nn.BatchNorm2d(ngf * 8), \n",
    "                                    nn.ReLU(), \n",
    "                                    # input_size: (BATCHSIZE, ngf*8, 4, 4)\n",
    "                                    nn.ConvTranspose2d(in_channels=ngf*8, out_channels=ngf*4, kernel_size=3, stride=2, padding=1), \n",
    "                                    nn.BatchNorm2d(ngf * 4), \n",
    "                                    nn.ReLU(), \n",
    "                                    # input_size: (BATCHSIZE, ngf*4, 7, 7)\n",
    "                                    nn.ConvTranspose2d(in_channels=ngf*4, out_channels=ngf, kernel_size=4, stride=2, padding=1), \n",
    "                                    nn.BatchNorm2d(ngf), \n",
    "                                    nn.ReLU(), \n",
    "                                    # input_size: (BATCHSIZE, ngf, 14, 14)\n",
    "                                    nn.ConvTranspose2d(in_channels=ngf, out_channels=nic, kernel_size=4, stride=2, padding=1), \n",
    "                                    # output_size: (BATCHSIZE, nc, 28, 28)\n",
    "                                    nn.Sigmoid() \n",
    "                                )\n",
    "\n",
    "    def forward(self, z, c_one_hot): \n",
    "        x = torch.cat([z, c_one_hot], 1)\n",
    "        x = self.gen(x.unsqueeze(-1).unsqueeze(-1))\n",
    "        return x\n",
    "\n",
    "\n",
    "class Discriminator(nn.Module):\n",
    "    def __init__(self, nc, height_width, ndf, n_classes):\n",
    "        super().__init__()\n",
    "        \n",
    "        self.height_width = height_width\n",
    "        self.dis = nn.Sequential(   \n",
    "                                    nn.Linear(height_width**2 + n_classes, height_width**2), \n",
    "                                    nn.Unflatten(1, (nc, height_width, height_width)), \n",
    "                                    nn.Conv2d(in_channels=nc, out_channels=ndf, kernel_size=4, stride=2, padding=1), \n",
    "                                    nn.ReLU(), \n",
    "                                    nn.Conv2d(in_channels=ndf, out_channels=ndf*4, kernel_size=4, stride=2, padding=1), \n",
    "                                    nn.BatchNorm2d(ndf*4), \n",
    "                                    nn.ReLU(), \n",
    "                                    nn.Conv2d(in_channels=ndf*4, out_channels=ndf*8, kernel_size=4, stride=2, padding=1), \n",
    "                                    nn.BatchNorm2d(ndf*8), \n",
    "                                    nn.ReLU(), \n",
    "                                    nn.Flatten(1,-1), \n",
    "                                    nn.Linear(ndf*8 * 3 * 3, 1), \n",
    "                                    nn.Sigmoid()\n",
    "                                )\n",
    "        \n",
    "    def forward(self, image, c_one_hot): \n",
    "        x = image.view(-1, self.height_width**2)\n",
    "        x = torch.cat([x, c_one_hot], 1)\n",
    "        x = self.dis(x)\n",
    "        return x"
   ]
  },
  {
   "cell_type": "markdown",
   "metadata": {},
   "source": [
    "## initialize model"
   ]
  },
  {
   "cell_type": "code",
   "execution_count": null,
   "metadata": {},
   "outputs": [],
   "source": [
    "dis = Discriminator(N_INPUTCHANNELS, HEIGHT_WIDTH, NDF, N_CLASSES).to(device)\n",
    "gen = Generator(NZ, NGF, N_INPUTCHANNELS, N_CLASSES).to(device)\n",
    "\n",
    "criterion = nn.BCELoss()\n",
    "\n",
    "optimizer_dis = torch.optim.Adam(dis.parameters(), lr=LR)\n",
    "optimizer_gen = torch.optim.Adam(gen.parameters(), lr=LR)"
   ]
  },
  {
   "cell_type": "markdown",
   "metadata": {},
   "source": [
    "## training loop"
   ]
  },
  {
   "cell_type": "code",
   "execution_count": null,
   "metadata": {},
   "outputs": [],
   "source": [
    "gen_losses = []\n",
    "dis_losses = []\n",
    "\n",
    "for epoch in range(EPOCHS): \n",
    "\n",
    "    for i, data in enumerate(train_loader): \n",
    "        real_im, labels = data\n",
    "        real_im, labels = real_im.to(device), labels.to(device)\n",
    "        labels_one_hot = torch.nn.functional.one_hot(labels, num_classes=10)\n",
    "        \n",
    "        # ---------------------\n",
    "        #  Train Discriminator\n",
    "        # ---------------------\n",
    "        \n",
    "        optimizer_dis.zero_grad()\n",
    "        \n",
    "        with torch.no_grad(): \n",
    "            z = torch.randn(len(real_im), NZ).to(device)                        # batch-size, latent-dimension\n",
    "            z_labels = torch.randint(0, 10, (len(real_im),)).to(device)         # random labels\n",
    "            z_labels_one_hot = torch.nn.functional.one_hot(z_labels, num_classes=10)\n",
    "            fake_im = gen(z, z_labels_one_hot)\n",
    "        \n",
    "        disc_real = dis(real_im, labels_one_hot)\n",
    "        disc_fake = dis(fake_im, z_labels_one_hot)\n",
    "        \n",
    "        # 1 being target/label for real images, 0 target/label for generated images (for the discriminator)\n",
    "        real_loss = criterion(disc_real, torch.ones_like(disc_real))\n",
    "        fake_loss = criterion(disc_fake, torch.zeros_like(disc_fake))\n",
    "        loss_dis = (real_loss + fake_loss) / 2\n",
    "        \n",
    "        loss_dis.backward() \n",
    "        optimizer_dis.step()\n",
    "        \n",
    "        # -----------------\n",
    "        #  Train Generator\n",
    "        # -----------------\n",
    "\n",
    "        optimizer_gen.zero_grad()\n",
    "        \n",
    "        # generate images\n",
    "        z = torch.randn(len(real_im), NZ).to(device)                        # batch-size, latent-dimension\n",
    "        z_labels = torch.randint(0, 10, (len(real_im),)).to(device)         # random labels\n",
    "        z_labels_one_hot = torch.nn.functional.one_hot(z_labels, num_classes=10)\n",
    "        fake_im = gen(z, z_labels_one_hot)\n",
    "        \n",
    "        # judge generated images with discriminator\n",
    "        output = dis(fake_im, z_labels_one_hot)\n",
    "        \n",
    "        # 1 being target/label for real image, 0 target/label for generated image (here, for generator training, generated images are labeled as real)\n",
    "        loss_gen = criterion(output, torch.ones_like(output))\n",
    "\n",
    "        loss_gen.backward()\n",
    "        optimizer_gen.step()\n",
    "        \n",
    "        # record stats\n",
    "        avg_pred_real = disc_real.mean().item()\n",
    "        avg_pred_gen1 = disc_fake.mean().item()\n",
    "        avg_pred_gen2 = output.mean().item()\n",
    "\n",
    "        # print stats \n",
    "        if i % 50 == 0:\n",
    "            print(f'[{epoch+1}/{EPOCHS}] [{i}/{len(train_loader)}] \\nLoss D: {loss_dis.item()}, Loss G: {loss_gen.item()}, Mean D(x): {avg_pred_real}, Mean D(G(z)):{avg_pred_gen1} / {avg_pred_gen2}')\n",
    "\n",
    "        gen_losses.append(loss_gen.item())\n",
    "        dis_losses.append(loss_dis.item())"
   ]
  },
  {
   "cell_type": "markdown",
   "metadata": {},
   "source": [
    "## check results"
   ]
  },
  {
   "cell_type": "code",
   "execution_count": null,
   "metadata": {},
   "outputs": [],
   "source": [
    "# plot generator and discriminator loss\n",
    "plt.figure(figsize=(10,5))\n",
    "plt.title('Generator and Discriminator Loss')\n",
    "plt.plot(gen_losses, label='Generator')\n",
    "plt.plot(dis_losses, label='Discriminator')\n",
    "plt.xlabel('iterations')\n",
    "plt.ylabel('loss')\n",
    "plt.legend()\n",
    "plt.show()\n",
    "\n",
    "# sample from a standard gaussian\n",
    "z = torch.randn(10, NZ).to(device) \n",
    "# generate classes\n",
    "c = torch.eye(10, 10).to(device)\n",
    "# generate some images\n",
    "gen_img = gen(z, c) \n",
    "\n",
    "# show generated images\n",
    "for i in range(10): \n",
    "  plt.subplot(2,5, i + 1) \n",
    "  plt.axis('off')\n",
    "  plt.title(f'{i}')\n",
    "  plt.imshow(gen_img[i].squeeze().detach().cpu().numpy(), cmap='gray_r')\n",
    "\n",
    "plt.show()\n",
    "\n",
    "# check discriminator\n",
    "out_test = dis(gen_img, c)\n",
    "print(f'Discriminator tested on generated images, MEAN prediction: {out_test.mean().item():.2f}')\n",
    "\n",
    "real_batch, real_label = next(iter(train_loader))\n",
    "real_batch, real_label = real_batch.to(device), real_label.to(device)\n",
    "\n",
    "real_label_one_hot = torch.nn.functional.one_hot(real_label, num_classes=10)\n",
    "real_test = dis(real_batch, real_label_one_hot)\n",
    "print(f'Discriminator tested on real images, MEAN prediction:  {real_test.mean().item():.2f}')"
   ]
  }
 ],
 "metadata": {
  "interpreter": {
   "hash": "8e38f0c188ce6a35b54fcffb420782e7c865c9fec8ce80c6a870b6cb8f84f9de"
  },
  "kernelspec": {
   "display_name": "Python 3.9.6 64-bit ('island': conda)",
   "name": "python3"
  },
  "language_info": {
   "codemirror_mode": {
    "name": "ipython",
    "version": 3
   },
   "file_extension": ".py",
   "mimetype": "text/x-python",
   "name": "python",
   "nbconvert_exporter": "python",
   "pygments_lexer": "ipython3",
   "version": "3.9.6"
  },
  "orig_nbformat": 4
 },
 "nbformat": 4,
 "nbformat_minor": 2
}
