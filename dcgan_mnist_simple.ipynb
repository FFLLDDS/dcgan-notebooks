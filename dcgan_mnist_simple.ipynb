{
 "cells": [
  {
   "cell_type": "markdown",
   "source": [
    "# simple DCGAN"
   ],
   "metadata": {}
  },
  {
   "cell_type": "markdown",
   "source": [
    "## imports"
   ],
   "metadata": {}
  },
  {
   "cell_type": "code",
   "execution_count": null,
   "source": [
    "import torch\n",
    "import torchvision\n",
    "import torch.nn as nn\n",
    "import matplotlib.pyplot as plt\n",
    "import numpy as np"
   ],
   "outputs": [],
   "metadata": {}
  },
  {
   "cell_type": "markdown",
   "source": [
    "## hyperparams"
   ],
   "metadata": {}
  },
  {
   "cell_type": "code",
   "execution_count": null,
   "source": [
    "PATH = 'data'\n",
    "BATCHSIZE = 64\n",
    "INPUTCHANNELS = 1\n",
    "NDF = 4\n",
    "NGF = 32\n",
    "NZ = 100\n",
    "LR = 1e-3\n",
    "EPOCHS = 20"
   ],
   "outputs": [],
   "metadata": {}
  },
  {
   "cell_type": "markdown",
   "source": [
    "## load MNIST data"
   ],
   "metadata": {}
  },
  {
   "cell_type": "code",
   "execution_count": null,
   "source": [
    "device = torch.device(\"cuda:0\" if torch.cuda.is_available() else \"cpu\")\n",
    "\n",
    "transform = torchvision.transforms.ToTensor()\n",
    "train_data = torchvision.datasets.MNIST(root=PATH, train=True, transform=transform, download=True)\n",
    "\n",
    "train_loader = torch.utils.data.DataLoader(train_data, batch_size=BATCHSIZE, shuffle=True)"
   ],
   "outputs": [],
   "metadata": {}
  },
  {
   "cell_type": "markdown",
   "source": [
    "## Generator and Discriminator classes"
   ],
   "metadata": {}
  },
  {
   "cell_type": "code",
   "execution_count": null,
   "source": [
    "class Generator(nn.Module):\n",
    "    def __init__(self, nz, ngf, nc):\n",
    "        super().__init__()\n",
    "        \n",
    "        self.gen = nn.Sequential(\n",
    "                                    # input_size: (BATCHSIZE, nz=100, 1, 1)\n",
    "                                    nn.ConvTranspose2d(in_channels=nz, out_channels=ngf*8, kernel_size=4,stride=1, padding=0), \n",
    "                                    nn.BatchNorm2d(ngf * 8), \n",
    "                                    nn.ReLU(), \n",
    "                                    # input_size: (BATCHSIZE, ngf*8, 4, 4)\n",
    "                                    nn.ConvTranspose2d(in_channels=ngf*8, out_channels=ngf*4, kernel_size=3, stride=2, padding=1), \n",
    "                                    nn.BatchNorm2d(ngf * 4), \n",
    "                                    nn.ReLU(), \n",
    "                                    # input_size: (BATCHSIZE, ngf*4, 7, 7)\n",
    "                                    nn.ConvTranspose2d(in_channels=ngf*4, out_channels=ngf, kernel_size=4, stride=2, padding=1), \n",
    "                                    nn.BatchNorm2d(ngf), \n",
    "                                    nn.ReLU(), \n",
    "                                    # input_size: (BATCHSIZE, ngf, 14, 14)\n",
    "                                    nn.ConvTranspose2d(in_channels=ngf, out_channels=nc, kernel_size=4, stride=2, padding=1), \n",
    "                                    # output_size: (BATCHSIZE, nc, 28, 28)\n",
    "                                    nn.Sigmoid() \n",
    "                                )\n",
    "\n",
    "    def forward(self, input): \n",
    "        x = self.gen(input)\n",
    "        return x\n",
    "\n",
    "\n",
    "class Discriminator(nn.Module):\n",
    "    def __init__(self, nc, ndf):\n",
    "        super().__init__()\n",
    "        \n",
    "        self.dis = nn.Sequential(\n",
    "                                    nn.Conv2d(in_channels=nc, out_channels=ndf, kernel_size=4, stride=2, padding=1), \n",
    "                                    nn.ReLU(), \n",
    "                                    nn.Conv2d(in_channels=ndf, out_channels=ndf*4, kernel_size=4, stride=2, padding=1), \n",
    "                                    nn.BatchNorm2d(ndf*4), \n",
    "                                    nn.ReLU(), \n",
    "                                    nn.Conv2d(in_channels=ndf*4, out_channels=ndf*8, kernel_size=4, stride=2, padding=1), \n",
    "                                    nn.BatchNorm2d(ndf*8), \n",
    "                                    nn.ReLU(), \n",
    "                                    nn.Flatten(1,-1), \n",
    "                                    nn.Linear(ndf*8 * 3 * 3, 1), \n",
    "                                    nn.Sigmoid()\n",
    "                                )\n",
    "        \n",
    "    def forward(self, input): \n",
    "        x = self.dis(input)\n",
    "        return x"
   ],
   "outputs": [],
   "metadata": {}
  },
  {
   "cell_type": "markdown",
   "source": [
    "## initialize model"
   ],
   "metadata": {}
  },
  {
   "cell_type": "code",
   "execution_count": null,
   "source": [
    "dis = Discriminator(INPUTCHANNELS, NDF).to(device)\n",
    "gen = Generator(NZ, NGF, INPUTCHANNELS).to(device)\n",
    "\n",
    "criterion = nn.BCELoss()\n",
    "\n",
    "optimizer_dis = torch.optim.Adam(dis.parameters(), lr=LR)\n",
    "optimizer_gen = torch.optim.Adam(gen.parameters(), lr=LR)"
   ],
   "outputs": [],
   "metadata": {}
  },
  {
   "cell_type": "markdown",
   "source": [
    "## training loop"
   ],
   "metadata": {}
  },
  {
   "cell_type": "code",
   "execution_count": null,
   "source": [
    "gen_losses = []\n",
    "dis_losses = []\n",
    "\n",
    "for epoch in range(EPOCHS): \n",
    "\n",
    "    for i, data in enumerate(train_loader): \n",
    "        real_im, _ = data\n",
    "        real_im = real_im.to(device)\n",
    "        \n",
    "        # ---------------------\n",
    "        #  Train Discriminator\n",
    "        # ---------------------\n",
    "        \n",
    "        optimizer_dis.zero_grad()\n",
    "        \n",
    "        with torch.no_grad(): \n",
    "            z = torch.randn(len(real_im), NZ, 1, 1).to(device)   # batch-size, number-channels, height, width\n",
    "            fake_im = gen(z)\n",
    "        \n",
    "        disc_real = dis(real_im)\n",
    "        disc_fake = dis(fake_im)\n",
    "        \n",
    "        # 1 being label for real image, 0 label for generated image\n",
    "        real_loss = criterion(disc_real, torch.ones_like(disc_real))\n",
    "        fake_loss = criterion(disc_fake, torch.zeros_like(disc_fake))\n",
    "        loss_dis = (real_loss + fake_loss) / 2\n",
    "        \n",
    "        loss_dis.backward() \n",
    "        optimizer_dis.step()\n",
    "        \n",
    "        # -----------------\n",
    "        #  Train Generator\n",
    "        # -----------------\n",
    "\n",
    "        optimizer_gen.zero_grad()\n",
    "        \n",
    "        z = torch.randn(len(real_im), NZ, 1, 1).to(device)\n",
    "        fake_im = gen(z)\n",
    "        output = dis(fake_im)\n",
    "        \n",
    "        # 1 being label for real image, 0 label for generated image (here, for generator training, generated images are labeled as real)\n",
    "        loss_gen = criterion(output, torch.ones_like(output))\n",
    "\n",
    "        loss_gen.backward()\n",
    "        optimizer_gen.step()\n",
    "        \n",
    "        # record stats\n",
    "        avg_pred_real = disc_real.mean().item()\n",
    "        avg_pred_gen1 = disc_fake.mean().item()\n",
    "        avg_pred_gen2 = output.mean().item()\n",
    "\n",
    "        # print stats \n",
    "        if i % 50 == 0:\n",
    "            print(f'[{epoch+1}/{EPOCHS}] [{i}/{len(train_loader)}] \\nLoss D: {loss_dis.item()}, Loss G: {loss_gen.item()}, Mean D(x): {avg_pred_real}, Mean D(G(z)):{avg_pred_gen1} / {avg_pred_gen2}')\n",
    "\n",
    "        gen_losses.append(loss_gen.item())\n",
    "        dis_losses.append(loss_dis.item())"
   ],
   "outputs": [],
   "metadata": {}
  },
  {
   "cell_type": "markdown",
   "source": [
    "## check results"
   ],
   "metadata": {}
  },
  {
   "cell_type": "code",
   "execution_count": null,
   "source": [
    "# plot generator and discriminator loss\n",
    "plt.figure(figsize=(10,5))\n",
    "plt.title('Generator and Discriminator Loss')\n",
    "plt.plot(gen_losses, label='Generator')\n",
    "plt.plot(dis_losses, label='Discriminator')\n",
    "plt.xlabel('iterations')\n",
    "plt.ylabel('loss')\n",
    "plt.legend()\n",
    "plt.show()\n",
    "\n",
    "# sample from a standard gaussian\n",
    "z = torch.randn(10, NZ).to(device) \n",
    "# generate some images\n",
    "gen_img = gen(z.unsqueeze(2).unsqueeze(3)) \n",
    "\n",
    "# show generated images\n",
    "for i in range(10): \n",
    "  plt.subplot(2,5, i + 1) \n",
    "  plt.axis('off')\n",
    "  plt.imshow(gen_img[i].squeeze().detach().cpu().numpy(), cmap='gray_r')\n",
    "\n",
    "plt.show()\n",
    "\n",
    "# check discriminator\n",
    "out_test = dis(gen_img)\n",
    "print(f'Discriminator tested on generated images, MEAN prediction: {out_test.mean().item():.2f}')\n",
    "\n",
    "real_batch, _ = next(iter(train_loader))\n",
    "real_test = dis(real_batch.to(device))\n",
    "print(f'Discriminator tested on real images, MEAN prediction:  {real_test.mean().item():.2f}')"
   ],
   "outputs": [],
   "metadata": {}
  }
 ],
 "metadata": {
  "orig_nbformat": 4,
  "language_info": {
   "name": "python",
   "version": "3.9.6",
   "mimetype": "text/x-python",
   "codemirror_mode": {
    "name": "ipython",
    "version": 3
   },
   "pygments_lexer": "ipython3",
   "nbconvert_exporter": "python",
   "file_extension": ".py"
  },
  "kernelspec": {
   "name": "python3",
   "display_name": "Python 3.9.6 64-bit ('island': conda)"
  },
  "interpreter": {
   "hash": "5caaa1bc9b15b6b32c3354080b8d80e1a2af5d12081a1c55dce2cf9505551bea"
  }
 },
 "nbformat": 4,
 "nbformat_minor": 2
}